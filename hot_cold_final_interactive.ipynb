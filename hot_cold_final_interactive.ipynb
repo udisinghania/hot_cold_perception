{
 "cells": [
  {
   "cell_type": "code",
   "execution_count": 4,
   "metadata": {},
   "outputs": [
    {
     "name": "stdout",
     "output_type": "stream",
     "text": [
      "Enter the input string 1 for cold and 0 for hot and s for stop: 1\n",
      "Input is Cold\n",
      "Perception is Hot\n",
      "Enter the input string 1 for cold and 0 for hot and s for stop: 0\n",
      "Input is Hot\n",
      "Perception is Hot\n",
      "Enter the input string 1 for cold and 0 for hot and s for stop: 0\n",
      "Input is Hot\n",
      "Perception is Hot\n",
      "Enter the input string 1 for cold and 0 for hot and s for stop: 0\n",
      "Input is Hot\n",
      "Perception is Hot\n",
      "Enter the input string 1 for cold and 0 for hot and s for stop: 1\n",
      "Input is Cold\n",
      "Perception is Hot\n",
      "Enter the input string 1 for cold and 0 for hot and s for stop: 1\n",
      "Input is Cold\n",
      "Perception is Cold\n",
      "Enter the input string 1 for cold and 0 for hot and s for stop: s\n",
      "Thank You!!\n"
     ]
    }
   ],
   "source": [
    "s=0\n",
    "x1=0\n",
    "x2=0\n",
    "y1=0\n",
    "y2=0\n",
    "z1=0\n",
    "z2=0\n",
    "\n",
    "#print(\"Perception is hot\")    \n",
    "while (s!=1):\n",
    "    l=input(\"Enter the input string 1 for cold and 0 for hot and s for stop: \")\n",
    "    if l=='s':\n",
    "        s=1\n",
    "        print('Thank You!!')\n",
    "        break\n",
    "    else:\n",
    "        l=int(l)\n",
    "        if l==1:\n",
    "            print('Input is Cold')\n",
    "        else:\n",
    "            print('Input is Hot')\n",
    "        if l==1:\n",
    "            x2 = 1\n",
    "            x1 = 0\n",
    "            if z2 == 0:\n",
    "                z2 = 1\n",
    "            else:\n",
    "                y2 = 1\n",
    "\n",
    "        elif l==0:\n",
    "            x2 = 0\n",
    "            x1 = 1\n",
    "            y2 = 0\n",
    "            if x2 == 0 and z2 == 1:\n",
    "                z1 = 1\n",
    "                y1 = 1\n",
    "                z2 = 0\n",
    "\n",
    "            elif x1 == 0:\n",
    "                x1 = 1 \n",
    "                y1 = 1\n",
    "            elif x1 == 1:\n",
    "                x1 = 1\n",
    "                y1 = 1\n",
    "\n",
    "        #print(x1,x2,z1,z2,y1,y2)\n",
    "        if (z2 ==1 or y1 ==1) and (y2==0):\n",
    "            print('Perception is Hot')\n",
    "        elif y2==1:\n",
    "            print('Perception is Cold')"
   ]
  },
  {
   "cell_type": "code",
   "execution_count": null,
   "metadata": {},
   "outputs": [],
   "source": []
  }
 ],
 "metadata": {
  "kernelspec": {
   "display_name": "Python 3",
   "language": "python",
   "name": "python3"
  },
  "language_info": {
   "codemirror_mode": {
    "name": "ipython",
    "version": 3
   },
   "file_extension": ".py",
   "mimetype": "text/x-python",
   "name": "python",
   "nbconvert_exporter": "python",
   "pygments_lexer": "ipython3",
   "version": "3.6.5"
  }
 },
 "nbformat": 4,
 "nbformat_minor": 2
}
